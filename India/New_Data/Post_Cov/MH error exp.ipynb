{
 "cells": [
  {
   "cell_type": "code",
   "execution_count": 16,
   "metadata": {},
   "outputs": [
    {
     "name": "stdout",
     "output_type": "stream",
     "text": [
      "{'ANDAMAN AND NICOBAR ISLANDS': 381, 'ANDHRA PRADESH': 84581, 'ARUNACHAL PRADESH': 1384, 'ASSAM': 31206, 'BIHAR': 104099, 'CHANDIGARH': 1055, 'CHHATTISGARH': 25545, 'DADRA AND NAGAR HAVELI': 344, 'DAMAN AND DIU': 243, 'GOA': 1459, 'GUJARAT': 60440, 'HARYANA': 25351, 'HIMACHAL PRADESH': 6865, 'JAMMU AND KASHMIR': 12541, 'JHARKHAND': 32988, 'KARNATAKA': 61095, 'KERALA': 33406, 'LAKSHADWEEP': 64, 'MADHYA PRADESH': 72627, 'MAHARASHTRA': 112374, 'MANIPUR': 2856, 'MEGHALAYA': 2967, 'MIZORAM': 1097, 'NAGALAND': 1979, 'ODISHA': 41974, 'PUDUCHERRY': 1248, 'PUNJAB': 27743, 'RAJASTHAN': 68548, 'TAMIL NADU': 72147, 'TRIPURA': 3674, 'UTTAR PRADESH': 199812, 'UTTARAKHAND': 10086, 'WEST BENGAL': 91276, 'DELHI NCT': 16788, 'SIKKIM': 611}\n",
      "Jul 01\n",
      "['  L', '', ' G1', ' G2', ' G3', ' G4', ' G5', ' G6', ' G7', ' G8', ' G9', 'G10', 'G11', 'G12', 'G13', 'G14', 'G15', 'G16', 'G17', 'G18', '']\n",
      "['  L', '', 'G18', 'G17', 'G16', 'G15', 'G14', 'G13', 'G12', 'G11', 'G10', ' G9', ' G8', ' G7', ' G6', ' G5', ' G4', ' G3', ' G2', ' G1', '']\n",
      "['', '', '', '', '', '', '', '', '', '', '', '', '', '', '', '', '', '', '', '', '', '', '', '', '', '']\n",
      "['  L', '', ' G1', ' G2', ' G3', ' G4', ' G5', ' G6', ' G7', ' G8', ' G9', 'G10', 'G11', 'G12', 'G13', 'G14', 'G15', 'G16', 'G17', 'G18', 'G19', '']\n",
      "['  L', '', 'G19', 'G18', 'G17', 'G16', 'G15', 'G14', 'G13', 'G12', 'G11', 'G10', ' G9', ' G8', ' G7', ' G6', ' G5', ' G4', ' G3', ' G2', ' G1', '']\n",
      "Mon Jun 21, 2021 Thu Jul 01, 2021\n",
      "name 'TS' is not defined\n",
      "0 0.0\n"
     ]
    },
    {
     "data": {
      "text/plain": [
       "0.0"
      ]
     },
     "execution_count": 16,
     "metadata": {},
     "output_type": "execute_result"
    }
   ],
   "source": [
    "import pandas as pd\n",
    "import numpy as np\n",
    "import json\n",
    "from datetime import date\n",
    "import calendar\n",
    "import networkx as nx\n",
    "\n",
    "\n",
    "\n",
    "dic_month={\"Jan\":1,\"Feb\":2,\"Mar\":3,\"Apr\":4,\"May\":5,\"Jun\":6,\"Jul\":7,\"Aug\":8,\"Sep\":9,\"Oct\":10,\"Nov\":11,\"Dec\":12}\n",
    "# df2=pd.read_excel(\"INDIA.XLSX\")\n",
    "# dic={}\n",
    "# df2\n",
    "# df2=df2.loc[(df2['Unnamed: 5'] == \"All ages\") & (df2[\"Unnamed: 4\"]==\"Total\")& (df2[\"Unnamed: 6\"]==\"Total\")]\n",
    "# df2\n",
    "# for index, row in df2.iterrows():\n",
    "#     dic[row[\"Unnamed: 3\"].lstrip(\"State -\")[0:-5].upper()]=row[\"Unnamed: 7\"]\n",
    "# dic.pop(\"\")\n",
    "# #dic THIS THING ABOVE MAKES A DICT OF MIGRATION, LETS CHANGE IT TO POPULATION\n",
    "# dic[\"DELHI NCT\"]=dic[\"NCT OF DELHI\"]\n",
    "# dic[\"JAMMU AND KASHMIR\"]=dic[\"JAMMU & KASHMIR\"]\n",
    "# dic[\"SIKKIM\"]=dic[\"IKKIM\"]\n",
    "# dic.pop(\"IKKIM\")\n",
    "# dic.pop(\"JAMMU & KASHMIR\")\n",
    "# dic.pop(\"NCT OF DELHI\")\n",
    "# dic\n",
    "\n",
    "\n",
    "df2=pd.read_excel(\"INDIA.XLSX\")\n",
    "dic={}\n",
    "df2\n",
    "df2=df2.loc[(df2['Unnamed: 5'] == \"All ages\") & (df2[\"Unnamed: 4\"]==\"Total\")& (df2[\"Unnamed: 6\"]==\"Total\")]\n",
    "df2\n",
    "for index, row in df2.iterrows():\n",
    "    dic[row[\"Unnamed: 3\"].lstrip(\"State -\").upper()]=row[\"Unnamed: 7\"]\n",
    "\n",
    "dic\n",
    "dic[\"DELHI NCT\"]=dic[\"DELHI\"]\n",
    "                            # dic[\"JAMMU AND KASHMIR\"]=dic[\"JAMMU & KASHMIR\"]\n",
    "dic[\"SIKKIM\"]=dic[\"IKKIM\"]\n",
    "dic.pop(\"IKKIM\")\n",
    "dic.pop(\"DELHI\")\n",
    "dic.pop(\"INDIA\")\n",
    "print(dic)\n",
    "\n",
    "\n",
    "\n",
    "df=pd.read_csv(\"Scraped.csv\")\n",
    "x=df[\"5\"][6]\n",
    "print(x)\n",
    "df\n",
    "passengers=[]\n",
    "for i in range(len(df)):\n",
    "    temp=0\n",
    "    x=df[\"18\"][i]\n",
    "    x=x.replace(\"EOG\",\"\")\n",
    "    #x=x.strip('][').split(',')\n",
    "    if(len(x)>8):\n",
    "        for j in x:\n",
    "            if (j.startswith(\"D\")):\n",
    "                temp+=106\n",
    "            if (j.startswith(\"H\")):\n",
    "                temp+=22\n",
    "            if (j.startswith(\"B\")):\n",
    "                temp+=72\n",
    "            if (j.startswith(\"S\") or j.startswith(\"C\")):\n",
    "                temp+=80\n",
    "            if (j.startswith(\"A\") or j.startswith(\"E\")):\n",
    "                temp+=54\n",
    "        if temp==0:\n",
    "            print(x)\n",
    "            y=x\n",
    "        passengers.append(temp)\n",
    "passengers=list(filter(lambda a: a != 0, passengers))\n",
    "\n",
    "\n",
    "def df_states(df):\n",
    "    for i in range(len(df)):\n",
    "        x=df[\"19\"][i]\n",
    "        x=x.strip('][').split(',')\n",
    "        for j in range(1,len(x),2):\n",
    "            print(x[j])\n",
    "#df_states(df)\n",
    "\n",
    "\n",
    "\n",
    "\n",
    "def create():\n",
    "    lis=[*dic]\n",
    "    df=pd.DataFrame(data=0,columns=lis, index = lis)\n",
    "    return df\n",
    "dfG=create()\n",
    "def get_passengers(x):\n",
    "    temp=0\n",
    "    x=x.replace(\"EOG\",\"\")\n",
    "    #x=x.strip('][').split(',')\n",
    "    if(len(x)>8):\n",
    "        for j in x:\n",
    "            if (j.startswith(\"D\")):\n",
    "                temp+=106\n",
    "            if (j.startswith(\"H\")):\n",
    "                temp+=22\n",
    "            if (j.startswith(\"B\")):\n",
    "                temp+=72\n",
    "            if (j.startswith(\"S\") or j.startswith(\"C\")):\n",
    "                temp+=80\n",
    "            if (j.startswith(\"A\") or j.startswith(\"E\")):\n",
    "                temp+=54\n",
    "    if temp>0:\n",
    "        return temp\n",
    "    else:\n",
    "        return 1590\n",
    "def get_weekdays(string):\n",
    "    string=string.replace(\" \",\"\")\n",
    "    #print(len(string), string)\n",
    "    return len(string)\n",
    "def separator(string):\n",
    "    string=string[4:]\n",
    "    dm,year=string.split(\",\")\n",
    "    return dm,year[1:]\n",
    "\n",
    "def checkruns_weight(row):      #Assumption: The end date is not in 2022. And the start date is either in 2020 or 2021\n",
    "    s=row[21]\n",
    "    e=row[22]\n",
    "    days=0\n",
    "#     TS=date(2020,5,1)\n",
    "#     TE=date(2020,7,31)\n",
    "#     TS=date(2020,8,1)\n",
    "#     TE=date(2020,10,31)\n",
    "\n",
    "    print(s,e)\n",
    "    try:\n",
    "        s,years=separator(s)\n",
    "        e,yeare=separator(e)\n",
    "        #\n",
    "        sm,sd=s.split(\" \")\n",
    "        em,ed=e.split(\" \")\n",
    "        #\n",
    "        sm=dic_month[sm]\n",
    "        em=dic_month[em]\n",
    "        #\n",
    "        date_s=date(int(years),int(sm),int(sd))\n",
    "        date_e=date(int(yeare),int(em),int(ed))\n",
    "        #\n",
    "        #days=date_e-date_s\n",
    "        if(TS>date_s):\n",
    "            CS=TS\n",
    "        else:\n",
    "            CS=date_s\n",
    "        if(TE>date_e):\n",
    "            CE=date_e\n",
    "        else:\n",
    "            CE=TE\n",
    "        \n",
    "        days=CE-CS\n",
    "        \n",
    "    except Exception as e:\n",
    "        print(e)\n",
    "        days=date(2021,6,10)-date(2021,6,10)\n",
    "#         try:\n",
    "#             sm,sd=s.split(\" \")\n",
    "#             sm=dic_month[sm]\n",
    "#             date_e=date(2021,6,10)\n",
    "#             date_s=date(2021,int(sm),int(sd))\n",
    "#             days=date_e-date_s\n",
    "#         except:\n",
    "#             days=date(2021,6,10)-date(2021,6,10)\n",
    "\n",
    "\n",
    "    days=days.days\n",
    "    if(days<0):\n",
    "        days=0\n",
    "    runs=days/7*get_weekdays(row[14])*get_passengers(row[19])\n",
    "    print(days,runs)\n",
    "    return runs\n",
    "                #\n",
    "#get_weekdays(df.loc[0][14])\n",
    "#get_passengers(df.loc[1][19])\n",
    "def separator(string):\n",
    "    string=string[4:]\n",
    "    dm,year=string.split(\",\")\n",
    "    return dm,year[1:]\n",
    "checkruns_weight(df.loc[0])\n"
   ]
  },
  {
   "cell_type": "code",
   "execution_count": 6,
   "metadata": {},
   "outputs": [
    {
     "name": "stdout",
     "output_type": "stream",
     "text": [
      " Telangana'\n",
      " Telangana'\n",
      " Telangana'\n",
      " Telangana'\n",
      " Telangana'\n",
      " Maharashtra'\n",
      " Maharashtra'\n",
      " Madhya Pradesh'\n",
      " Madhya Pradesh'\n",
      " Uttar Pradesh'\n",
      " Uttar Pradesh'\n",
      " Uttar Pradesh'\n",
      " Uttar Pradesh'\n",
      " Uttar Pradesh'\n",
      " Uttar Pradesh'\n"
     ]
    },
    {
     "data": {
      "text/plain": [
       "['TELANGANA', 'MAHARASHTRA', 'MADHYA PRADESH', 'UTTAR PRADESH']"
      ]
     },
     "execution_count": 6,
     "metadata": {},
     "output_type": "execute_result"
    }
   ],
   "source": [
    "x=r\"['Hyderabad-500001, Telangana', 'Secunderabad 500003, Telangana', ', Telangana', 'Pin - 505172, Telangana', '504208 Ph : 08736 - 254445, Telangana', 'Balharshah 442901, Maharashtra', 'PIN - 440001, Maharashtra', 'District Hoshangabad, Madhya Pradesh', '462001, Madhya Pradesh', 'PIN 284003 (Jn Point ;AGC/CNB/BPL/PRYJ), Uttar Pradesh', 'KANPUR-208 001, Uttar Pradesh', 'Uttar Pradesh 226018, Uttar Pradesh', 'NH-28 Barabanki, Uttar Pradesh', 'Gonda 271002, Uttar Pradesh', 'Gorakhpur 273012, Uttar Pradesh']\"\n",
    "x=x.strip('][').split(',')\n",
    "y=[]\n",
    "for i in range(1,len(x),2):\n",
    "    print(x[i])\n",
    "    var=x[i].strip(\" '\").upper()\n",
    "    if var not in y:\n",
    "        y.append(var)\n",
    "    else:\n",
    "        pass\n",
    "y"
   ]
  },
  {
   "cell_type": "code",
   "execution_count": null,
   "metadata": {},
   "outputs": [],
   "source": []
  },
  {
   "cell_type": "code",
   "execution_count": 13,
   "metadata": {},
   "outputs": [],
   "source": [
    "if \"TELANGANA\" in y:\n",
    "        if \"ANDHRA PRADESH\" in y:\n",
    "            y.remove(\"TELANGANA\")\n",
    "        else:\n",
    "            dunno=y.index(\"TELANGANA\")\n",
    "            y[dunno]=\"ANDHRA PRADESH\"\n",
    "temp=[]\n",
    "for i in y:\n",
    "    try:\n",
    "        temp.append(dic[i])\n",
    "    except KeyError:\n",
    "        if i ==\"TELANGANA\":\n",
    "            #temp.append(dic(\"ANDHRA PRADESH\"))\n",
    "\n",
    "            if \"ANDHRA PRADESH\" in y:\n",
    "                y.remove(i)\n",
    "            else:\n",
    "                dunno=y.index(\"TELANGANA\")\n",
    "                y[dunno]=\"ANDHRA PRADESH\"\n",
    "                #print(y)\n",
    "                temp.append(dic[\"ANDHRA PRADESH\"])            \n",
    "lis=[sum(temp[(i):len(temp)]) for i in range(len(y))]"
   ]
  },
  {
   "cell_type": "code",
   "execution_count": 14,
   "metadata": {},
   "outputs": [
    {
     "data": {
      "text/plain": [
       "[84581, 112374, 72627, 199812]"
      ]
     },
     "execution_count": 14,
     "metadata": {},
     "output_type": "execute_result"
    }
   ],
   "source": [
    "temp"
   ]
  },
  {
   "cell_type": "code",
   "execution_count": 15,
   "metadata": {},
   "outputs": [
    {
     "data": {
      "text/plain": [
       "[469394, 384813, 272439, 199812]"
      ]
     },
     "execution_count": 15,
     "metadata": {},
     "output_type": "execute_result"
    }
   ],
   "source": [
    "lis"
   ]
  },
  {
   "cell_type": "code",
   "execution_count": 17,
   "metadata": {},
   "outputs": [
    {
     "name": "stdout",
     "output_type": "stream",
     "text": [
      "35 35\n",
      "'int' object is not subscriptable\n"
     ]
    },
    {
     "ename": "AttributeError",
     "evalue": "'int' object has no attribute 'replace'",
     "output_type": "error",
     "traceback": [
      "\u001b[1;31m---------------------------------------------------------------------------\u001b[0m",
      "\u001b[1;31mAttributeError\u001b[0m                            Traceback (most recent call last)",
      "\u001b[1;32m<ipython-input-17-865352a3940b>\u001b[0m in \u001b[0;36m<module>\u001b[1;34m\u001b[0m\n\u001b[1;32m----> 1\u001b[1;33m \u001b[0mcapacity\u001b[0m\u001b[1;33m=\u001b[0m\u001b[0mcheckruns_weight\u001b[0m\u001b[1;33m(\u001b[0m\u001b[0mrow\u001b[0m\u001b[1;33m)\u001b[0m\u001b[1;33m\u001b[0m\u001b[1;33m\u001b[0m\u001b[0m\n\u001b[0m",
      "\u001b[1;32m<ipython-input-16-295291950948>\u001b[0m in \u001b[0;36mcheckruns_weight\u001b[1;34m(row)\u001b[0m\n\u001b[0;32m    171\u001b[0m     \u001b[1;32mif\u001b[0m\u001b[1;33m(\u001b[0m\u001b[0mdays\u001b[0m\u001b[1;33m<\u001b[0m\u001b[1;36m0\u001b[0m\u001b[1;33m)\u001b[0m\u001b[1;33m:\u001b[0m\u001b[1;33m\u001b[0m\u001b[1;33m\u001b[0m\u001b[0m\n\u001b[0;32m    172\u001b[0m         \u001b[0mdays\u001b[0m\u001b[1;33m=\u001b[0m\u001b[1;36m0\u001b[0m\u001b[1;33m\u001b[0m\u001b[1;33m\u001b[0m\u001b[0m\n\u001b[1;32m--> 173\u001b[1;33m     \u001b[0mruns\u001b[0m\u001b[1;33m=\u001b[0m\u001b[0mdays\u001b[0m\u001b[1;33m/\u001b[0m\u001b[1;36m7\u001b[0m\u001b[1;33m*\u001b[0m\u001b[0mget_weekdays\u001b[0m\u001b[1;33m(\u001b[0m\u001b[0mrow\u001b[0m\u001b[1;33m[\u001b[0m\u001b[1;36m14\u001b[0m\u001b[1;33m]\u001b[0m\u001b[1;33m)\u001b[0m\u001b[1;33m*\u001b[0m\u001b[0mget_passengers\u001b[0m\u001b[1;33m(\u001b[0m\u001b[0mrow\u001b[0m\u001b[1;33m[\u001b[0m\u001b[1;36m19\u001b[0m\u001b[1;33m]\u001b[0m\u001b[1;33m)\u001b[0m\u001b[1;33m\u001b[0m\u001b[1;33m\u001b[0m\u001b[0m\n\u001b[0m\u001b[0;32m    174\u001b[0m     \u001b[0mprint\u001b[0m\u001b[1;33m(\u001b[0m\u001b[0mdays\u001b[0m\u001b[1;33m,\u001b[0m\u001b[0mruns\u001b[0m\u001b[1;33m)\u001b[0m\u001b[1;33m\u001b[0m\u001b[1;33m\u001b[0m\u001b[0m\n\u001b[0;32m    175\u001b[0m     \u001b[1;32mreturn\u001b[0m \u001b[0mruns\u001b[0m\u001b[1;33m\u001b[0m\u001b[1;33m\u001b[0m\u001b[0m\n",
      "\u001b[1;32m<ipython-input-16-295291950948>\u001b[0m in \u001b[0;36mget_weekdays\u001b[1;34m(string)\u001b[0m\n\u001b[0;32m    112\u001b[0m         \u001b[1;32mreturn\u001b[0m \u001b[1;36m1590\u001b[0m\u001b[1;33m\u001b[0m\u001b[1;33m\u001b[0m\u001b[0m\n\u001b[0;32m    113\u001b[0m \u001b[1;32mdef\u001b[0m \u001b[0mget_weekdays\u001b[0m\u001b[1;33m(\u001b[0m\u001b[0mstring\u001b[0m\u001b[1;33m)\u001b[0m\u001b[1;33m:\u001b[0m\u001b[1;33m\u001b[0m\u001b[1;33m\u001b[0m\u001b[0m\n\u001b[1;32m--> 114\u001b[1;33m     \u001b[0mstring\u001b[0m\u001b[1;33m=\u001b[0m\u001b[0mstring\u001b[0m\u001b[1;33m.\u001b[0m\u001b[0mreplace\u001b[0m\u001b[1;33m(\u001b[0m\u001b[1;34m\" \"\u001b[0m\u001b[1;33m,\u001b[0m\u001b[1;34m\"\"\u001b[0m\u001b[1;33m)\u001b[0m\u001b[1;33m\u001b[0m\u001b[1;33m\u001b[0m\u001b[0m\n\u001b[0m\u001b[0;32m    115\u001b[0m     \u001b[1;31m#print(len(string), string)\u001b[0m\u001b[1;33m\u001b[0m\u001b[1;33m\u001b[0m\u001b[1;33m\u001b[0m\u001b[0m\n\u001b[0;32m    116\u001b[0m     \u001b[1;32mreturn\u001b[0m \u001b[0mlen\u001b[0m\u001b[1;33m(\u001b[0m\u001b[0mstring\u001b[0m\u001b[1;33m)\u001b[0m\u001b[1;33m\u001b[0m\u001b[1;33m\u001b[0m\u001b[0m\n",
      "\u001b[1;31mAttributeError\u001b[0m: 'int' object has no attribute 'replace'"
     ]
    }
   ],
   "source": [
    "get_weekdays()"
   ]
  },
  {
   "cell_type": "code",
   "execution_count": null,
   "metadata": {},
   "outputs": [],
   "source": []
  }
 ],
 "metadata": {
  "kernelspec": {
   "display_name": "Python 3",
   "language": "python",
   "name": "python3"
  },
  "language_info": {
   "codemirror_mode": {
    "name": "ipython",
    "version": 3
   },
   "file_extension": ".py",
   "mimetype": "text/x-python",
   "name": "python",
   "nbconvert_exporter": "python",
   "pygments_lexer": "ipython3",
   "version": "3.8.3"
  }
 },
 "nbformat": 4,
 "nbformat_minor": 4
}
