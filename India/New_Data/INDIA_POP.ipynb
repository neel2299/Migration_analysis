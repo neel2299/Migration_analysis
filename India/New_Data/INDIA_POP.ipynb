{
 "cells": [
  {
   "cell_type": "code",
   "execution_count": 29,
   "metadata": {},
   "outputs": [],
   "source": [
    "import requests\n",
    "from bs4 import BeautifulSoup\n",
    "import urllib.request\n",
    "import pandas as pd"
   ]
  },
  {
   "cell_type": "code",
   "execution_count": 30,
   "metadata": {},
   "outputs": [],
   "source": [
    "r = requests.get('https://m.rbi.org.in/Scripts/PublicationsView.aspx?id=20105')\n",
    "soup = BeautifulSoup(r.content, 'html.parser')\n",
    "soup = BeautifulSoup(r.content, 'html.parser')\n",
    "data = []\n",
    "table = soup.find('table', attrs={'class':'lineItemsTable'})\n",
    "\n",
    "\n",
    "rows = soup.find_all('tr')\n",
    "for row in rows:\n",
    "    cols = row.find_all('td')\n",
    "    cols = [ele.text.strip() for ele in cols]\n",
    "    data.append([ele for ele in cols if ele])"
   ]
  },
  {
   "cell_type": "code",
   "execution_count": 31,
   "metadata": {},
   "outputs": [
    {
     "data": {
      "text/plain": [
       "[['Andaman & Nicobar Islands', '-', '4.21', '37.13', '96.95'],\n",
       " ['Andhra Pradesh', '45.87', '625.80', '12372.41', '32757.63'],\n",
       " ['Arunachal Pradesh', '0.01', '7.03', '30.87', '937.48'],\n",
       " ['Assam', '11.09', '93.69', '1090.37', '6941.15'],\n",
       " ['Bihar', '31.79', '333.34', '2718.61', '8405.45'],\n",
       " ['Chandigarh', '3.33', '36.50', '505.61', '607.05'],\n",
       " ['Chhattisgarh', '.', '.', '1999.87', '3303.41'],\n",
       " ['Dadra & Nagar Haveli', '0.31', '12.26', '1190.06', '229.58'],\n",
       " ['Daman & Diu', '-', '7.94', '911.10', '1881.53'],\n",
       " ['Delhi', '52.68', '401.22', '6960.90', '10164.54'],\n",
       " ['Goa', '6.00', '74.17', '624.53', '3820.19'],\n",
       " ['Gujarat', '96.04', '887.40', '11030.37', '166753.60'],\n",
       " ['Haryana', '40.45', '355.90', '7988.63', '25998.80'],\n",
       " ['Himachal Pradesh', '3.16', '80.67', '720.06', '5599.25'],\n",
       " ['Jammu and Kashmir', '3.67', '113.31', '1283.26', '8475.28'],\n",
       " ['Jharkhand', '.', '.', '601.96', '5020.72'],\n",
       " ['Karnataka', '43.79', '660.85', '8430.23', '27161.11'],\n",
       " ['Kerala', '44.08', '387.51', '7021.14', '44353.53'],\n",
       " ['Lakshadweep', '-', '-', '15.43', '17.30'],\n",
       " ['Madhya Pradesh', '30.43', '260.15', '3451.50', '10530.40'],\n",
       " ['Maharashtra', '226.66', '1260.25', '27960.98', '67941.24'],\n",
       " ['Manipur', '9.00', '20.78', '364.12', '646.03'],\n",
       " ['Meghalaya', '0.87', '8.88', '136.81', '468.55'],\n",
       " ['Mizoram', '2.10', '13.88', '120.56', '403.14'],\n",
       " ['Nagaland', '0.28', '7.29', '267.77', '1273.67'],\n",
       " ['Odisha', '8.79', '156.46', '1913.39', '12284.89'],\n",
       " ['Puducherry', '1.97', '36.20', '503.16', '1135.29'],\n",
       " ['Punjab', '81.54', '567.34', '11828.80', '37126.69'],\n",
       " ['Rajasthan', '25.59', '364.38', '6600.81', '25452.90'],\n",
       " ['Sikkim', '-', '7.84', '15.43', '72.16'],\n",
       " ['Tamil Nadu', '111.15', '1085.84', '10989.32', '77824.34'],\n",
       " ['Telangana', '.', '.', '.', '.'],\n",
       " ['Tripura', '0.79', '14.73', '319.98', '661.73'],\n",
       " ['Uttar Pradesh', '91.33', '980.96', '17291.63', '56161.03'],\n",
       " ['Uttarakhand', '-', '-', '1450.81', '6014.98']]"
      ]
     },
     "execution_count": 31,
     "metadata": {},
     "output_type": "execute_result"
    }
   ],
   "source": [
    "data[6:41]"
   ]
  },
  {
   "cell_type": "code",
   "execution_count": 32,
   "metadata": {
    "scrolled": true
   },
   "outputs": [
    {
     "name": "stdout",
     "output_type": "stream",
     "text": [
      "Andaman & Nicobar Islands 96.95\n",
      "Andhra Pradesh 32757.63\n",
      "Arunachal Pradesh 937.48\n",
      "Assam 6941.15\n",
      "Bihar 8405.45\n",
      "Chandigarh 607.05\n",
      "Chhattisgarh 3303.41\n",
      "Dadra & Nagar Haveli 229.58\n",
      "Daman & Diu 1881.53\n",
      "Delhi 10164.54\n",
      "Goa 3820.19\n",
      "Gujarat 166753.60\n",
      "Haryana 25998.80\n",
      "Himachal Pradesh 5599.25\n",
      "Jammu and Kashmir 8475.28\n",
      "Jharkhand 5020.72\n",
      "Karnataka 27161.11\n",
      "Kerala 44353.53\n",
      "Lakshadweep 17.30\n",
      "Madhya Pradesh 10530.40\n",
      "Maharashtra 67941.24\n",
      "Manipur 646.03\n",
      "Meghalaya 468.55\n",
      "Mizoram 403.14\n",
      "Nagaland 1273.67\n",
      "Odisha 12284.89\n",
      "Puducherry 1135.29\n",
      "Punjab 37126.69\n",
      "Rajasthan 25452.90\n",
      "Sikkim 72.16\n",
      "Tamil Nadu 77824.34\n",
      "Telangana .\n",
      "Tripura 661.73\n",
      "Uttar Pradesh 56161.03\n",
      "Uttarakhand 6014.98\n",
      "West Bengal 39433.22\n"
     ]
    },
    {
     "data": {
      "text/html": [
       "<div>\n",
       "<style scoped>\n",
       "    .dataframe tbody tr th:only-of-type {\n",
       "        vertical-align: middle;\n",
       "    }\n",
       "\n",
       "    .dataframe tbody tr th {\n",
       "        vertical-align: top;\n",
       "    }\n",
       "\n",
       "    .dataframe thead th {\n",
       "        text-align: right;\n",
       "    }\n",
       "</style>\n",
       "<table border=\"1\" class=\"dataframe\">\n",
       "  <thead>\n",
       "    <tr style=\"text-align: right;\">\n",
       "      <th></th>\n",
       "      <th>State_Name</th>\n",
       "      <th>Investment</th>\n",
       "    </tr>\n",
       "  </thead>\n",
       "  <tbody>\n",
       "    <tr>\n",
       "      <th>0</th>\n",
       "      <td>ANDAMAN &amp; NICOBAR ISLANDS</td>\n",
       "      <td>96.95</td>\n",
       "    </tr>\n",
       "    <tr>\n",
       "      <th>1</th>\n",
       "      <td>ANDHRA PRADESH</td>\n",
       "      <td>32757.63</td>\n",
       "    </tr>\n",
       "    <tr>\n",
       "      <th>2</th>\n",
       "      <td>ARUNACHAL PRADESH</td>\n",
       "      <td>937.48</td>\n",
       "    </tr>\n",
       "    <tr>\n",
       "      <th>3</th>\n",
       "      <td>ASSAM</td>\n",
       "      <td>6941.15</td>\n",
       "    </tr>\n",
       "    <tr>\n",
       "      <th>4</th>\n",
       "      <td>BIHAR</td>\n",
       "      <td>8405.45</td>\n",
       "    </tr>\n",
       "    <tr>\n",
       "      <th>5</th>\n",
       "      <td>CHANDIGARH</td>\n",
       "      <td>607.05</td>\n",
       "    </tr>\n",
       "    <tr>\n",
       "      <th>6</th>\n",
       "      <td>CHHATTISGARH</td>\n",
       "      <td>3303.41</td>\n",
       "    </tr>\n",
       "    <tr>\n",
       "      <th>7</th>\n",
       "      <td>DADRA &amp; NAGAR HAVELI</td>\n",
       "      <td>229.58</td>\n",
       "    </tr>\n",
       "    <tr>\n",
       "      <th>8</th>\n",
       "      <td>DAMAN &amp; DIU</td>\n",
       "      <td>1881.53</td>\n",
       "    </tr>\n",
       "    <tr>\n",
       "      <th>9</th>\n",
       "      <td>JAMMU &amp; KASHMIR</td>\n",
       "      <td>10164.54</td>\n",
       "    </tr>\n",
       "    <tr>\n",
       "      <th>10</th>\n",
       "      <td>GOA</td>\n",
       "      <td>3820.19</td>\n",
       "    </tr>\n",
       "    <tr>\n",
       "      <th>11</th>\n",
       "      <td>GUJARAT</td>\n",
       "      <td>166753.60</td>\n",
       "    </tr>\n",
       "    <tr>\n",
       "      <th>12</th>\n",
       "      <td>HARYANA</td>\n",
       "      <td>25998.80</td>\n",
       "    </tr>\n",
       "    <tr>\n",
       "      <th>13</th>\n",
       "      <td>HIMACHAL PRADESH</td>\n",
       "      <td>5599.25</td>\n",
       "    </tr>\n",
       "    <tr>\n",
       "      <th>14</th>\n",
       "      <td>JAMMU AND KASHMIR</td>\n",
       "      <td>8475.28</td>\n",
       "    </tr>\n",
       "    <tr>\n",
       "      <th>15</th>\n",
       "      <td>JHARKHAND</td>\n",
       "      <td>5020.72</td>\n",
       "    </tr>\n",
       "    <tr>\n",
       "      <th>16</th>\n",
       "      <td>KARNATAKA</td>\n",
       "      <td>27161.11</td>\n",
       "    </tr>\n",
       "    <tr>\n",
       "      <th>17</th>\n",
       "      <td>KERALA</td>\n",
       "      <td>44353.53</td>\n",
       "    </tr>\n",
       "    <tr>\n",
       "      <th>18</th>\n",
       "      <td>LAKSHADWEEP</td>\n",
       "      <td>17.30</td>\n",
       "    </tr>\n",
       "    <tr>\n",
       "      <th>19</th>\n",
       "      <td>MADHYA PRADESH</td>\n",
       "      <td>10530.40</td>\n",
       "    </tr>\n",
       "    <tr>\n",
       "      <th>20</th>\n",
       "      <td>MAHARASHTRA</td>\n",
       "      <td>67941.24</td>\n",
       "    </tr>\n",
       "    <tr>\n",
       "      <th>21</th>\n",
       "      <td>MANIPUR</td>\n",
       "      <td>646.03</td>\n",
       "    </tr>\n",
       "    <tr>\n",
       "      <th>22</th>\n",
       "      <td>MEGHALAYA</td>\n",
       "      <td>468.55</td>\n",
       "    </tr>\n",
       "    <tr>\n",
       "      <th>23</th>\n",
       "      <td>MIZORAM</td>\n",
       "      <td>403.14</td>\n",
       "    </tr>\n",
       "    <tr>\n",
       "      <th>24</th>\n",
       "      <td>NAGALAND</td>\n",
       "      <td>1273.67</td>\n",
       "    </tr>\n",
       "    <tr>\n",
       "      <th>25</th>\n",
       "      <td>ODISHA</td>\n",
       "      <td>12284.89</td>\n",
       "    </tr>\n",
       "    <tr>\n",
       "      <th>26</th>\n",
       "      <td>PUDUCHERRY</td>\n",
       "      <td>1135.29</td>\n",
       "    </tr>\n",
       "    <tr>\n",
       "      <th>27</th>\n",
       "      <td>PUNJAB</td>\n",
       "      <td>37126.69</td>\n",
       "    </tr>\n",
       "    <tr>\n",
       "      <th>28</th>\n",
       "      <td>ANDAMAN &amp; NICOBAR ISLANDS</td>\n",
       "      <td>25452.90</td>\n",
       "    </tr>\n",
       "    <tr>\n",
       "      <th>29</th>\n",
       "      <td>SIKKIM</td>\n",
       "      <td>72.16</td>\n",
       "    </tr>\n",
       "    <tr>\n",
       "      <th>30</th>\n",
       "      <td>TAMIL NADU</td>\n",
       "      <td>77824.34</td>\n",
       "    </tr>\n",
       "    <tr>\n",
       "      <th>31</th>\n",
       "      <td>NCT OF DELHI</td>\n",
       "      <td>0.00</td>\n",
       "    </tr>\n",
       "    <tr>\n",
       "      <th>32</th>\n",
       "      <td>TRIPURA</td>\n",
       "      <td>661.73</td>\n",
       "    </tr>\n",
       "    <tr>\n",
       "      <th>33</th>\n",
       "      <td>UTTAR PRADESH</td>\n",
       "      <td>56161.03</td>\n",
       "    </tr>\n",
       "    <tr>\n",
       "      <th>34</th>\n",
       "      <td>UTTARAKHAND</td>\n",
       "      <td>6014.98</td>\n",
       "    </tr>\n",
       "    <tr>\n",
       "      <th>35</th>\n",
       "      <td>WEST BENGAL</td>\n",
       "      <td>39433.22</td>\n",
       "    </tr>\n",
       "  </tbody>\n",
       "</table>\n",
       "</div>"
      ],
      "text/plain": [
       "                   State_Name  Investment\n",
       "0   ANDAMAN & NICOBAR ISLANDS       96.95\n",
       "1              ANDHRA PRADESH    32757.63\n",
       "2           ARUNACHAL PRADESH      937.48\n",
       "3                       ASSAM     6941.15\n",
       "4                       BIHAR     8405.45\n",
       "5                  CHANDIGARH      607.05\n",
       "6                CHHATTISGARH     3303.41\n",
       "7        DADRA & NAGAR HAVELI      229.58\n",
       "8                 DAMAN & DIU     1881.53\n",
       "9             JAMMU & KASHMIR    10164.54\n",
       "10                        GOA     3820.19\n",
       "11                    GUJARAT   166753.60\n",
       "12                    HARYANA    25998.80\n",
       "13           HIMACHAL PRADESH     5599.25\n",
       "14          JAMMU AND KASHMIR     8475.28\n",
       "15                  JHARKHAND     5020.72\n",
       "16                  KARNATAKA    27161.11\n",
       "17                     KERALA    44353.53\n",
       "18                LAKSHADWEEP       17.30\n",
       "19             MADHYA PRADESH    10530.40\n",
       "20                MAHARASHTRA    67941.24\n",
       "21                    MANIPUR      646.03\n",
       "22                  MEGHALAYA      468.55\n",
       "23                    MIZORAM      403.14\n",
       "24                   NAGALAND     1273.67\n",
       "25                     ODISHA    12284.89\n",
       "26                 PUDUCHERRY     1135.29\n",
       "27                     PUNJAB    37126.69\n",
       "28  ANDAMAN & NICOBAR ISLANDS    25452.90\n",
       "29                     SIKKIM       72.16\n",
       "30                 TAMIL NADU    77824.34\n",
       "31               NCT OF DELHI        0.00\n",
       "32                    TRIPURA      661.73\n",
       "33              UTTAR PRADESH    56161.03\n",
       "34                UTTARAKHAND     6014.98\n",
       "35                WEST BENGAL    39433.22"
      ]
     },
     "execution_count": 32,
     "metadata": {},
     "output_type": "execute_result"
    }
   ],
   "source": [
    "pov_df = pd.DataFrame(columns=['State_Name', 'Investment'])\n",
    "dic={}\n",
    "itr=6\n",
    "lenn=len(data)\n",
    "#for i in range(5)\n",
    "while itr<42:\n",
    "    \n",
    "    lis=[]\n",
    "    lis.append(data[itr][0].upper())\n",
    "    try:\n",
    "        lis.append(float(data[itr][4]))\n",
    "        pov_df.loc[len(pov_df)]=lis\n",
    "        dic[data[itr][0].upper()]=float(data[itr][4])\n",
    "        print(data[itr][0],data[itr][4])\n",
    "        \n",
    "    except:\n",
    "        lis.append(float(0))\n",
    "        pov_df.loc[len(pov_df)]=lis\n",
    "        dic[data[itr][0].upper()]=0\n",
    "        print(data[itr][0],data[itr][4])\n",
    "        \n",
    "    itr+=1\n",
    "pov_df.loc[28,\"State_Name\"]=\"ANDAMAN & NICOBAR ISLANDS\"\n",
    "pov_df.loc[9,\"State_Name\"]=\"JAMMU & KASHMIR\"\n",
    "pov_df.loc[31,\"State_Name\"]=\"NCT OF DELHI\"\n",
    "dic[\"NCT OF DELHI\"]=dic[\"DELHI\"]\n",
    "dic[\"JAMMU & KASHMIR\"]=dic[\"JAMMU AND KASHMIR\"]\n",
    "\n",
    "pov_df"
   ]
  },
  {
   "cell_type": "code",
   "execution_count": 33,
   "metadata": {},
   "outputs": [
    {
     "name": "stdout",
     "output_type": "stream",
     "text": [
      "43\n"
     ]
    }
   ],
   "source": [
    "r = requests.get('https://m.rbi.org.in/Scripts/PublicationsView.aspx?id=19992')\n",
    "soup = BeautifulSoup(r.content, 'html.parser')\n",
    "data = []\n",
    "table = soup.find('table', attrs={'class':'lineItemsTable'})\n",
    "\n",
    "\n",
    "rows = soup.find_all('tr')\n",
    "for row in rows:\n",
    "    cols = row.find_all('td')\n",
    "    cols = [ele.text.strip() for ele in cols]\n",
    "    data.append([ele for ele in cols if ele])\n",
    "dic_urbanpop={}\n",
    "itr=6\n",
    "lenn=len(data)\n",
    "print(lenn)\n",
    "#for i in range(5)\n",
    "while itr<41:\n",
    "    dic_urbanpop[data[itr][0].upper()]=float(data[itr][7])\n",
    "    itr+=1\n",
    "dic_urbanpop[\"NCT OF DELHI\"]=dic_urbanpop[\"DELHI\"]\n",
    "dic_urbanpop[\"JAMMU & KASHMIR\"]=dic_urbanpop[\"JAMMU AND KASHMIR\"]\n",
    "dic_urbanpop[\"DADRA & NAGAR HAVELI\"]=dic_urbanpop[\"DADRA AND NAGAR HAVELI\"]\n",
    "dic_urbanpop[\"DAMAN & DIU\"]=dic_urbanpop[\"DAMAN AND DIU\"]\n",
    "dic_urbanpop[\"ANDAMAN & NICOBAR ISLANDS\"]=dic_urbanpop[\"ANDAMAN AND NICOBAR ISLANDS\"]"
   ]
  },
  {
   "cell_type": "code",
   "execution_count": 34,
   "metadata": {},
   "outputs": [
    {
     "name": "stdout",
     "output_type": "stream",
     "text": [
      "43\n"
     ]
    }
   ],
   "source": [
    "r = requests.get('https://m.rbi.org.in/Scripts/PublicationsView.aspx?id=19991')\n",
    "soup = BeautifulSoup(r.content, 'html.parser')\n",
    "data = []\n",
    "table = soup.find('table', attrs={'class':'lineItemsTable'})\n",
    "\n",
    "\n",
    "rows = soup.find_all('tr')\n",
    "for row in rows:\n",
    "    cols = row.find_all('td')\n",
    "    cols = [ele.text.strip() for ele in cols]\n",
    "    data.append([ele for ele in cols if ele])\n",
    "\n",
    "dic_ruralpop={}\n",
    "itr=6\n",
    "lenn=len(data)\n",
    "print(lenn)\n",
    "#for i in range(5)\n",
    "while itr<41:\n",
    "    dic_ruralpop[data[itr][0].upper()]=float(data[itr][7])\n",
    "    itr+=1\n",
    "dic_ruralpop[\"NCT OF DELHI\"]=dic_ruralpop[\"DELHI\"]\n",
    "dic_ruralpop[\"JAMMU & KASHMIR\"]=dic_ruralpop[\"JAMMU AND KASHMIR\"]\n",
    "dic_ruralpop[\"DADRA & NAGAR HAVELI\"]=dic_ruralpop[\"DADRA AND NAGAR HAVELI\"]\n",
    "dic_ruralpop[\"DAMAN & DIU\"]=dic_ruralpop[\"DAMAN AND DIU\"]\n",
    "dic_ruralpop[\"ANDAMAN & NICOBAR ISLANDS\"]=dic_ruralpop[\"ANDAMAN AND NICOBAR ISLANDS\"]"
   ]
  },
  {
   "cell_type": "code",
   "execution_count": 35,
   "metadata": {},
   "outputs": [],
   "source": [
    "dic_netpop={}\n",
    "for key in dic_ruralpop.keys():\n",
    "    dic_netpop[key]=dic_ruralpop[key]+dic_urbanpop[key]"
   ]
  },
  {
   "cell_type": "code",
   "execution_count": 36,
   "metadata": {},
   "outputs": [
    {
     "data": {
      "text/plain": [
       "{'ANDAMAN & NICOBAR ISLANDS': 96.95,\n",
       " 'ANDHRA PRADESH': 32757.63,\n",
       " 'ARUNACHAL PRADESH': 937.48,\n",
       " 'ASSAM': 6941.15,\n",
       " 'BIHAR': 8405.45,\n",
       " 'CHANDIGARH': 607.05,\n",
       " 'CHHATTISGARH': 3303.41,\n",
       " 'DADRA & NAGAR HAVELI': 229.58,\n",
       " 'DAMAN & DIU': 1881.53,\n",
       " 'DELHI': 10164.54,\n",
       " 'GOA': 3820.19,\n",
       " 'GUJARAT': 166753.6,\n",
       " 'HARYANA': 25998.8,\n",
       " 'HIMACHAL PRADESH': 5599.25,\n",
       " 'JAMMU AND KASHMIR': 8475.28,\n",
       " 'JHARKHAND': 5020.72,\n",
       " 'KARNATAKA': 27161.11,\n",
       " 'KERALA': 44353.53,\n",
       " 'LAKSHADWEEP': 17.3,\n",
       " 'MADHYA PRADESH': 10530.4,\n",
       " 'MAHARASHTRA': 67941.24,\n",
       " 'MANIPUR': 646.03,\n",
       " 'MEGHALAYA': 468.55,\n",
       " 'MIZORAM': 403.14,\n",
       " 'NAGALAND': 1273.67,\n",
       " 'ODISHA': 12284.89,\n",
       " 'PUDUCHERRY': 1135.29,\n",
       " 'PUNJAB': 37126.69,\n",
       " 'RAJASTHAN': 25452.9,\n",
       " 'SIKKIM': 72.16,\n",
       " 'TAMIL NADU': 77824.34,\n",
       " 'TELANGANA': 0,\n",
       " 'TRIPURA': 661.73,\n",
       " 'UTTAR PRADESH': 56161.03,\n",
       " 'UTTARAKHAND': 6014.98,\n",
       " 'WEST BENGAL': 39433.22,\n",
       " 'NCT OF DELHI': 10164.54,\n",
       " 'JAMMU & KASHMIR': 8475.28}"
      ]
     },
     "execution_count": 36,
     "metadata": {},
     "output_type": "execute_result"
    }
   ],
   "source": [
    "dic"
   ]
  },
  {
   "cell_type": "code",
   "execution_count": 45,
   "metadata": {},
   "outputs": [],
   "source": [
    "import networkx as nx\n",
    "import matplotlib.pyplot as plt\n",
    "G=nx.read_gml(\"2011RU.gml\")\n",
    "G.remove_edges_from(nx.selfloop_edges(G))\n",
    "bins=[]\n",
    "temp=-25.5\n",
    "while temp<26:\n",
    "    bins.append(temp)\n",
    "    temp+=1\n",
    "\n",
    "dic1=dic\n",
    "dic2=dic\n",
    "y=0\n",
    "count=0\n",
    "x=[]\n",
    "for u,v,a in G.edges(data=True):\n",
    "    x+=[round((dic2[v]-dic1[u]),1)]*(a[\"weight\"])\n",
    "    count=count+a[\"weight\"]\n",
    "    y=round((dic2[v]-dic1[u]),1)*a[\"weight\"]+y"
   ]
  },
  {
   "cell_type": "code",
   "execution_count": 46,
   "metadata": {},
   "outputs": [
    {
     "name": "stdout",
     "output_type": "stream",
     "text": [
      "[-528.2, 5805.9, 7270.2, 7270.2, 138.4, 138.4, 2168.1, 2168.1, -905.7, -905.7, 4879.7, 4879.7, 4879.7, 4879.7, 9395.1, 9395.1, 9395.1, 9395.1, -1038.3, -1038.3, -1038.3, -1038.3, 24317.6, 24317.6, 24317.6, 24317.6, 24317.6, 11149.6, 11149.6, 11149.6, 11149.6, 11149.6, -666.7, -666.7, -666.7, -666.7, -666.7, -666.7, 3885.4, 3885.4]\n"
     ]
    }
   ],
   "source": [
    "print(x[0:40])\n"
   ]
  },
  {
   "cell_type": "code",
   "execution_count": 49,
   "metadata": {},
   "outputs": [
    {
     "data": {
      "image/png": "[encoded data removed]",
      "text/plain": [
       "<Figure size 432x288 with 1 Axes>"
      ]
     },
     "metadata": {
      "needs_background": "light"
     },
     "output_type": "display_data"
    }
   ],
   "source": [
    "m=plt.hist(x, bins=30, histtype='bar', )\n",
    "strr=\"average trend: \"+str(round((y/count),1))\n",
    "plt.text(25000, 12.0*1e5, strr)\n",
    "fig=plt.gcf()\n",
    "fig.savefig(\"investment\")\n",
    "plt.show()\n",
    "\n",
    "\n",
    "\n",
    "\n",
    "\n",
    "\n",
    "\n",
    "\n",
    "\n"
   ]
  },
  {
   "cell_type": "code",
   "execution_count": 48,
   "metadata": {},
   "outputs": [
    {
     "data": {
      "text/plain": [
       "16036.582873443642"
      ]
     },
     "execution_count": 48,
     "metadata": {},
     "output_type": "execute_result"
    }
   ],
   "source": [
    "y/count"
   ]
  },
  {
   "cell_type": "code",
   "execution_count": 41,
   "metadata": {},
   "outputs": [
    {
     "data": {
      "text/plain": [
       "2000000.0"
      ]
     },
     "execution_count": 41,
     "metadata": {},
     "output_type": "execute_result"
    }
   ],
   "source": [
    "1e6*2"
   ]
  },
  {
   "cell_type": "code",
   "execution_count": 40,
   "metadata": {},
   "outputs": [
    {
     "data": {
      "text/plain": [
       "<matplotlib.axes._subplots.AxesSubplot at 0x12ecfff2280>"
      ]
     },
     "execution_count": 40,
     "metadata": {},
     "output_type": "execute_result"
    },
    {
     "data": {
      "image/png": "[encoded data removed]",
      "text/plain": [
       "<Figure size 432x288 with 1 Axes>"
      ]
     },
     "metadata": {
      "needs_background": "light"
     },
     "output_type": "display_data"
    }
   ],
   "source": []
  },
  {
   "cell_type": "code",
   "execution_count": null,
   "metadata": {},
   "outputs": [],
   "source": []
  }
 ],
 "metadata": {
  "kernelspec": {
   "display_name": "Python 3",
   "language": "python",
   "name": "python3"
  },
  "language_info": {
   "codemirror_mode": {
    "name": "ipython",
    "version": 3
   },
   "file_extension": ".py",
   "mimetype": "text/x-python",
   "name": "python",
   "nbconvert_exporter": "python",
   "pygments_lexer": "ipython3",
   "version": "3.8.3"
  }
 },
 "nbformat": 4,
 "nbformat_minor": 4
}
