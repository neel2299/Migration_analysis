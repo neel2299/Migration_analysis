{
 "cells": [
  {
   "cell_type": "code",
   "execution_count": 1,
   "metadata": {},
   "outputs": [],
   "source": [
    "import requests\n",
    "from bs4 import BeautifulSoup\n",
    "import urllib.request\n",
    "import pandas as pd\n",
    "import networkx as nx\n",
    "import matplotlib.pyplot as plt"
   ]
  },
  {
   "cell_type": "code",
   "execution_count": 2,
   "metadata": {},
   "outputs": [],
   "source": [
    "r = requests.get('https://m.rbi.org.in/Scripts/PublicationsView.aspx?id=19991')\n"
   ]
  },
  {
   "cell_type": "code",
   "execution_count": 3,
   "metadata": {},
   "outputs": [],
   "source": [
    "soup = BeautifulSoup(r.content, 'html.parser')\n",
    "data = []\n",
    "table = soup.find('table', attrs={'class':'lineItemsTable'})\n",
    "\n",
    "\n",
    "rows = soup.find_all('tr')\n",
    "for row in rows:\n",
    "    cols = row.find_all('td')\n",
    "    cols = [ele.text.strip() for ele in cols]\n",
    "    data.append([ele for ele in cols if ele])"
   ]
  },
  {
   "cell_type": "code",
   "execution_count": 4,
   "metadata": {},
   "outputs": [
    {
     "data": {
      "text/plain": [
       "['West Bengal', '20018', '26385', '33345', '40134', '49370', '57749', '62183']"
      ]
     },
     "execution_count": 4,
     "metadata": {},
     "output_type": "execute_result"
    }
   ],
   "source": [
    "data[40]"
   ]
  },
  {
   "cell_type": "code",
   "execution_count": 5,
   "metadata": {},
   "outputs": [
    {
     "name": "stdout",
     "output_type": "stream",
     "text": [
      "43\n"
     ]
    }
   ],
   "source": [
    "dic_ruralpop={}\n",
    "itr=6\n",
    "lenn=len(data)\n",
    "print(lenn)\n",
    "#for i in range(5)\n",
    "while itr<41:\n",
    "    dic_ruralpop[data[itr][0].upper()]=float(data[itr][7])\n",
    "    itr+=1\n",
    "dic_ruralpop[\"NCT OF DELHI\"]=dic_ruralpop[\"DELHI\"]\n",
    "dic_ruralpop[\"JAMMU & KASHMIR\"]=dic_ruralpop[\"JAMMU AND KASHMIR\"]\n",
    "dic_ruralpop[\"DADRA & NAGAR HAVELI\"]=dic_ruralpop[\"DADRA AND NAGAR HAVELI\"]\n",
    "dic_ruralpop[\"DAMAN & DIU\"]=dic_ruralpop[\"DAMAN AND DIU\"]\n",
    "dic_ruralpop[\"ANDAMAN & NICOBAR ISLANDS\"]=dic_ruralpop[\"ANDAMAN AND NICOBAR ISLANDS\"]"
   ]
  },
  {
   "cell_type": "code",
   "execution_count": 6,
   "metadata": {
    "scrolled": true
   },
   "outputs": [
    {
     "data": {
      "text/plain": [
       "{'ANDAMAN AND NICOBAR ISLANDS': 237.0,\n",
       " 'ANDHRA PRADESH': 56362.0,\n",
       " 'ARUNACHAL PRADESH': 1066.0,\n",
       " 'ASSAM': 26807.0,\n",
       " 'BIHAR': 92341.0,\n",
       " 'CHANDIGARH': 29.0,\n",
       " 'CHHATTISGARH': 19608.0,\n",
       " 'DADRA AND NAGAR HAVELI': 183.0,\n",
       " 'DAMAN AND DIU': 60.0,\n",
       " 'DELHI': 419.0,\n",
       " 'GOA': 552.0,\n",
       " 'GUJARAT': 34695.0,\n",
       " 'HARYANA': 16509.0,\n",
       " 'HIMACHAL PRADESH': 6176.0,\n",
       " 'JAMMU AND KASHMIR': 9108.0,\n",
       " 'JHARKHAND': 25055.0,\n",
       " 'KARNATAKA': 37469.0,\n",
       " 'KERALA': 17471.0,\n",
       " 'LAKSHADWEEP': 14.0,\n",
       " 'MADHYA PRADESH': 52557.0,\n",
       " 'MAHARASHTRA': 61556.0,\n",
       " 'MANIPUR': 1736.0,\n",
       " 'MEGHALAYA': 2371.0,\n",
       " 'MIZORAM': 525.0,\n",
       " 'NAGALAND': 1408.0,\n",
       " 'ODISHA': 34971.0,\n",
       " 'PUDUCHERRY': 395.0,\n",
       " 'PUNJAB': 17344.0,\n",
       " 'RAJASTHAN': 51500.0,\n",
       " 'SIKKIM': 457.0,\n",
       " 'TAMIL NADU': 37230.0,\n",
       " 'TRIPURA': 2712.0,\n",
       " 'UTTAR PRADESH': 155317.0,\n",
       " 'UTTARAKHAND': 7037.0,\n",
       " 'WEST BENGAL': 62183.0,\n",
       " 'NCT OF DELHI': 419.0,\n",
       " 'JAMMU & KASHMIR': 9108.0,\n",
       " 'DADRA & NAGAR HAVELI': 183.0,\n",
       " 'DAMAN & DIU': 60.0,\n",
       " 'ANDAMAN & NICOBAR ISLANDS': 237.0}"
      ]
     },
     "execution_count": 6,
     "metadata": {},
     "output_type": "execute_result"
    }
   ],
   "source": [
    "dic_ruralpop"
   ]
  },
  {
   "cell_type": "code",
   "execution_count": 7,
   "metadata": {},
   "outputs": [],
   "source": [
    "r = requests.get('https://m.rbi.org.in/Scripts/PublicationsView.aspx?id=19992')\n",
    "soup = BeautifulSoup(r.content, 'html.parser')\n",
    "data = []\n",
    "table = soup.find('table', attrs={'class':'lineItemsTable'})\n",
    "\n",
    "\n",
    "rows = soup.find_all('tr')\n",
    "for row in rows:\n",
    "    cols = row.find_all('td')\n",
    "    cols = [ele.text.strip() for ele in cols]\n",
    "    data.append([ele for ele in cols if ele])\n"
   ]
  },
  {
   "cell_type": "code",
   "execution_count": 8,
   "metadata": {},
   "outputs": [
    {
     "data": {
      "text/plain": [
       "['West Bengal', '6282', '8541', '10967', '14447', '18708', '22427', '29093']"
      ]
     },
     "execution_count": 8,
     "metadata": {},
     "output_type": "execute_result"
    }
   ],
   "source": [
    "data[40]"
   ]
  },
  {
   "cell_type": "code",
   "execution_count": 9,
   "metadata": {},
   "outputs": [
    {
     "name": "stdout",
     "output_type": "stream",
     "text": [
      "43\n"
     ]
    }
   ],
   "source": [
    "dic_urbanpop={}\n",
    "itr=6\n",
    "lenn=len(data)\n",
    "print(lenn)\n",
    "#for i in range(5)\n",
    "while itr<41:\n",
    "    dic_urbanpop[data[itr][0].upper()]=float(data[itr][7])\n",
    "    itr+=1\n",
    "dic_urbanpop[\"NCT OF DELHI\"]=dic_urbanpop[\"DELHI\"]\n",
    "dic_urbanpop[\"JAMMU & KASHMIR\"]=dic_urbanpop[\"JAMMU AND KASHMIR\"]\n",
    "dic_urbanpop[\"DADRA & NAGAR HAVELI\"]=dic_urbanpop[\"DADRA AND NAGAR HAVELI\"]\n",
    "dic_urbanpop[\"DAMAN & DIU\"]=dic_urbanpop[\"DAMAN AND DIU\"]\n",
    "dic_urbanpop[\"ANDAMAN & NICOBAR ISLANDS\"]=dic_urbanpop[\"ANDAMAN AND NICOBAR ISLANDS\"]"
   ]
  },
  {
   "cell_type": "code",
   "execution_count": 10,
   "metadata": {
    "scrolled": true
   },
   "outputs": [
    {
     "data": {
      "text/plain": [
       "{'ANDAMAN AND NICOBAR ISLANDS': 143.0,\n",
       " 'ANDHRA PRADESH': 28219.0,\n",
       " 'ARUNACHAL PRADESH': 317.0,\n",
       " 'ASSAM': 4399.0,\n",
       " 'BIHAR': 11758.0,\n",
       " 'CHANDIGARH': 1026.0,\n",
       " 'CHHATTISGARH': 5937.0,\n",
       " 'DADRA AND NAGAR HAVELI': 161.0,\n",
       " 'DAMAN AND DIU': 183.0,\n",
       " 'DELHI': 16369.0,\n",
       " 'GOA': 907.0,\n",
       " 'GUJARAT': 25745.0,\n",
       " 'HARYANA': 8842.0,\n",
       " 'HIMACHAL PRADESH': 689.0,\n",
       " 'JAMMU AND KASHMIR': 3433.0,\n",
       " 'JHARKHAND': 7933.0,\n",
       " 'KARNATAKA': 23626.0,\n",
       " 'KERALA': 15935.0,\n",
       " 'LAKSHADWEEP': 50.0,\n",
       " 'MADHYA PRADESH': 20069.0,\n",
       " 'MAHARASHTRA': 50818.0,\n",
       " 'MANIPUR': 834.0,\n",
       " 'MEGHALAYA': 595.0,\n",
       " 'MIZORAM': 572.0,\n",
       " 'NAGALAND': 571.0,\n",
       " 'ODISHA': 7004.0,\n",
       " 'PUDUCHERRY': 853.0,\n",
       " 'PUNJAB': 10399.0,\n",
       " 'RAJASTHAN': 17048.0,\n",
       " 'SIKKIM': 154.0,\n",
       " 'TAMIL NADU': 34917.0,\n",
       " 'TRIPURA': 961.0,\n",
       " 'UTTAR PRADESH': 44495.0,\n",
       " 'UTTARAKHAND': 3049.0,\n",
       " 'WEST BENGAL': 29093.0,\n",
       " 'NCT OF DELHI': 16369.0,\n",
       " 'JAMMU & KASHMIR': 3433.0,\n",
       " 'DADRA & NAGAR HAVELI': 161.0,\n",
       " 'DAMAN & DIU': 183.0,\n",
       " 'ANDAMAN & NICOBAR ISLANDS': 143.0}"
      ]
     },
     "execution_count": 10,
     "metadata": {},
     "output_type": "execute_result"
    }
   ],
   "source": [
    "dic_urbanpop"
   ]
  },
  {
   "cell_type": "code",
   "execution_count": 11,
   "metadata": {},
   "outputs": [
    {
     "data": {
      "text/plain": [
       "['Andhra Pradesh', '4', '8', '7', '12', '12', '36', '45']"
      ]
     },
     "execution_count": 11,
     "metadata": {},
     "output_type": "execute_result"
    }
   ],
   "source": [
    "r = requests.get('https://m.rbi.org.in/Scripts/PublicationsView.aspx?id=20001')\n",
    "soup = BeautifulSoup(r.content, 'html.parser')\n",
    "data = []\n",
    "table = soup.find('table', attrs={'class':'lineItemsTable'})\n",
    "\n",
    "\n",
    "rows = soup.find_all('tr')\n",
    "for row in rows:\n",
    "    cols = row.find_all('td')\n",
    "    cols = [ele.text.strip() for ele in cols]\n",
    "    data.append([ele for ele in cols if ele])\n",
    "data[85]"
   ]
  },
  {
   "cell_type": "code",
   "execution_count": 12,
   "metadata": {},
   "outputs": [
    {
     "name": "stdout",
     "output_type": "stream",
     "text": [
      "122\n"
     ]
    }
   ],
   "source": [
    "\n",
    "dic_ruralemp={}\n",
    "itr=85\n",
    "lenn=len(data)\n",
    "print(lenn)\n",
    "#for i in range(5)\n",
    "while itr<120:\n",
    "    try:\n",
    "        dic_ruralemp[data[itr][0].upper()]=float(data[itr][5])/10\n",
    "    except ValueError:\n",
    "        dic_ruralemp[data[itr][0].upper()]=1.7\n",
    "    itr+=1\n",
    "dic_ruralemp[\"NCT OF DELHI\"]=dic_ruralemp[\"DELHI\"]\n",
    "dic_ruralemp[\"ANDAMAN & NICOBAR ISLANDS\"]=dic_ruralemp[\"ANDAMAN AND NICOBAR ISLANDS\"]"
   ]
  },
  {
   "cell_type": "code",
   "execution_count": 13,
   "metadata": {},
   "outputs": [],
   "source": [
    "r = requests.get('https://m.rbi.org.in/Scripts/PublicationsView.aspx?id=20002')\n",
    "soup = BeautifulSoup(r.content, 'html.parser')\n",
    "data = []\n",
    "table = soup.find('table', attrs={'class':'lineItemsTable'})\n",
    "\n",
    "\n",
    "rows = soup.find_all('tr')\n",
    "for row in rows:\n",
    "    cols = row.find_all('td')\n",
    "    cols = [ele.text.strip() for ele in cols]\n",
    "    data.append([ele for ele in cols if ele])"
   ]
  },
  {
   "cell_type": "code",
   "execution_count": 14,
   "metadata": {},
   "outputs": [],
   "source": [
    "\n",
    "dic_urbanemp={}\n",
    "itr=85\n",
    "lenn=len(data)\n",
    "#for i in range(5)\n",
    "while itr<120:\n",
    "    try:\n",
    "        dic_urbanemp[data[itr][0].upper()]=float(data[itr][5])/10\n",
    "    except ValueError:\n",
    "        dic_urbanemp[data[itr][0].upper()]=1.7\n",
    "   # print(dic_urbanemp[data[itr][0].upper()])\n",
    "    itr+=1\n",
    "dic_urbanemp[\"NCT OF DELHI\"]=dic_urbanemp[\"DELHI\"]\n",
    "dic_urbanemp[\"ANDAMAN & NICOBAR ISLANDS\"]=dic_urbanemp[\"ANDAMAN AND NICOBAR ISLANDS\"]"
   ]
  },
  {
   "cell_type": "code",
   "execution_count": 15,
   "metadata": {},
   "outputs": [
    {
     "name": "stdout",
     "output_type": "stream",
     "text": [
      "{'ANDHRA PRADESH': 4.3, 'ARUNACHAL PRADESH': 4.8, 'ASSAM': 5.6, 'BIHAR': 5.6, 'CHHATTISGARH': 4.3, 'DELHI': 3.5, 'GOA': 4.6, 'GUJARAT': 0.8, 'HARYANA': 4.2, 'HIMACHAL PRADESH': 4.0, 'JAMMU & KASHMIR': 7.0, 'JHARKHAND': 5.1, 'KARNATAKA': 2.9, 'KERALA': 6.1, 'MADHYA PRADESH': 2.6, 'MAHARASHTRA': 2.3, 'MANIPUR': 7.1, 'MEGHALAYA': 2.8, 'MIZORAM': 5.0, 'NAGALAND': 23.8, 'ODISHA': 3.5, 'PUNJAB': 2.8, 'RAJASTHAN': 3.1, 'SIKKIM': 2.3, 'TAMIL NADU': 2.7, 'TRIPURA': 25.2, 'UTTARAKHAND': 5.3, 'UTTAR PRADESH': 4.1, 'WEST BENGAL': 4.8, 'ANDAMAN AND NICOBAR ISLANDS': 8.6, 'CHANDIGARH': 6.4, 'DADRA & NAGAR HAVELI': 1.7, 'DAMAN & DIU': 0.5, 'LAKSHADWEEP': 11.5, 'PUDUCHERRY': 2.9, 'NCT OF DELHI': 3.5, 'ANDAMAN & NICOBAR ISLANDS': 8.6}\n"
     ]
    }
   ],
   "source": [
    "print(dic_urbanemp)"
   ]
  },
  {
   "cell_type": "code",
   "execution_count": 16,
   "metadata": {},
   "outputs": [
    {
     "name": "stdout",
     "output_type": "stream",
     "text": [
      "{'ANDAMAN AND NICOBAR ISLANDS': 143.0, 'ANDHRA PRADESH': 28219.0, 'ARUNACHAL PRADESH': 317.0, 'ASSAM': 4399.0, 'BIHAR': 11758.0, 'CHANDIGARH': 1026.0, 'CHHATTISGARH': 5937.0, 'DADRA AND NAGAR HAVELI': 161.0, 'DAMAN AND DIU': 183.0, 'DELHI': 16369.0, 'GOA': 907.0, 'GUJARAT': 25745.0, 'HARYANA': 8842.0, 'HIMACHAL PRADESH': 689.0, 'JAMMU AND KASHMIR': 3433.0, 'JHARKHAND': 7933.0, 'KARNATAKA': 23626.0, 'KERALA': 15935.0, 'LAKSHADWEEP': 50.0, 'MADHYA PRADESH': 20069.0, 'MAHARASHTRA': 50818.0, 'MANIPUR': 834.0, 'MEGHALAYA': 595.0, 'MIZORAM': 572.0, 'NAGALAND': 571.0, 'ODISHA': 7004.0, 'PUDUCHERRY': 853.0, 'PUNJAB': 10399.0, 'RAJASTHAN': 17048.0, 'SIKKIM': 154.0, 'TAMIL NADU': 34917.0, 'TRIPURA': 961.0, 'UTTAR PRADESH': 44495.0, 'UTTARAKHAND': 3049.0, 'WEST BENGAL': 29093.0, 'NCT OF DELHI': 16369.0, 'JAMMU & KASHMIR': 3433.0, 'DADRA & NAGAR HAVELI': 161.0, 'DAMAN & DIU': 183.0, 'ANDAMAN & NICOBAR ISLANDS': 143.0}\n"
     ]
    }
   ],
   "source": [
    "print(dic_urbanpop)"
   ]
  },
  {
   "cell_type": "code",
   "execution_count": 17,
   "metadata": {},
   "outputs": [
    {
     "name": "stdout",
     "output_type": "stream",
     "text": [
      "{'ANDHRA PRADESH': 1.2, 'ARUNACHAL PRADESH': 1.7, 'ASSAM': 4.5, 'BIHAR': 3.2, 'CHHATTISGARH': 0.8, 'DELHI': 7.8, 'GOA': 5.1, 'GUJARAT': 0.3, 'HARYANA': 2.4, 'HIMACHAL PRADESH': 1.0, 'JAMMU & KASHMIR': 2.5, 'JHARKHAND': 2.1, 'KARNATAKA': 0.9, 'KERALA': 6.8, 'MADHYA PRADESH': 0.4, 'MAHARASHTRA': 0.7, 'MANIPUR': 2.6, 'MEGHALAYA': 0.4, 'MIZORAM': 1.8, 'NAGALAND': 15.1, 'ODISHA': 2.2, 'PUNJAB': 1.9, 'RAJASTHAN': 0.7, 'SIKKIM': 1.0, 'TAMIL NADU': 2.0, 'TRIPURA': 10.5, 'UTTARAKHAND': 2.5, 'UTTAR PRADESH': 0.9, 'WEST BENGAL': 2.7, 'ANDAMAN AND NICOBAR ISLANDS': 5.4, 'CHANDIGARH': 1.7, 'DADRA & NAGAR HAVELI': 1.7, 'DAMAN & DIU': 1.7, 'LAKSHADWEEP': 16.0, 'PUDUCHERRY': 0.8, 'NCT OF DELHI': 7.8, 'ANDAMAN & NICOBAR ISLANDS': 5.4}\n"
     ]
    }
   ],
   "source": [
    "print(dic_ruralemp)"
   ]
  },
  {
   "cell_type": "code",
   "execution_count": 18,
   "metadata": {},
   "outputs": [
    {
     "name": "stdout",
     "output_type": "stream",
     "text": [
      "{'ANDAMAN AND NICOBAR ISLANDS': 237.0, 'ANDHRA PRADESH': 56362.0, 'ARUNACHAL PRADESH': 1066.0, 'ASSAM': 26807.0, 'BIHAR': 92341.0, 'CHANDIGARH': 29.0, 'CHHATTISGARH': 19608.0, 'DADRA AND NAGAR HAVELI': 183.0, 'DAMAN AND DIU': 60.0, 'DELHI': 419.0, 'GOA': 552.0, 'GUJARAT': 34695.0, 'HARYANA': 16509.0, 'HIMACHAL PRADESH': 6176.0, 'JAMMU AND KASHMIR': 9108.0, 'JHARKHAND': 25055.0, 'KARNATAKA': 37469.0, 'KERALA': 17471.0, 'LAKSHADWEEP': 14.0, 'MADHYA PRADESH': 52557.0, 'MAHARASHTRA': 61556.0, 'MANIPUR': 1736.0, 'MEGHALAYA': 2371.0, 'MIZORAM': 525.0, 'NAGALAND': 1408.0, 'ODISHA': 34971.0, 'PUDUCHERRY': 395.0, 'PUNJAB': 17344.0, 'RAJASTHAN': 51500.0, 'SIKKIM': 457.0, 'TAMIL NADU': 37230.0, 'TRIPURA': 2712.0, 'UTTAR PRADESH': 155317.0, 'UTTARAKHAND': 7037.0, 'WEST BENGAL': 62183.0, 'NCT OF DELHI': 419.0, 'JAMMU & KASHMIR': 9108.0, 'DADRA & NAGAR HAVELI': 183.0, 'DAMAN & DIU': 60.0, 'ANDAMAN & NICOBAR ISLANDS': 237.0}\n"
     ]
    }
   ],
   "source": [
    "print(dic_ruralpop)"
   ]
  },
  {
   "cell_type": "code",
   "execution_count": 19,
   "metadata": {},
   "outputs": [],
   "source": [
    "final_dic={}\n",
    "for key in dic_urbanemp.keys():\n",
    "    var_mid=(dic_ruralemp[key]*dic_ruralpop[key]+dic_urbanemp[key]*dic_urbanpop[key])/(dic_ruralpop[key]+dic_urbanpop[key])\n",
    "    final_dic[key] = float(\"{0:.2f}\".format(var_mid))"
   ]
  },
  {
   "cell_type": "code",
   "execution_count": 20,
   "metadata": {},
   "outputs": [
    {
     "data": {
      "text/plain": [
       "{'ANDHRA PRADESH': 2.23,\n",
       " 'ARUNACHAL PRADESH': 2.41,\n",
       " 'ASSAM': 4.66,\n",
       " 'BIHAR': 3.47,\n",
       " 'CHHATTISGARH': 1.61,\n",
       " 'DELHI': 3.61,\n",
       " 'GOA': 4.79,\n",
       " 'GUJARAT': 0.51,\n",
       " 'HARYANA': 3.03,\n",
       " 'HIMACHAL PRADESH': 1.3,\n",
       " 'JAMMU & KASHMIR': 3.73,\n",
       " 'JHARKHAND': 2.82,\n",
       " 'KARNATAKA': 1.67,\n",
       " 'KERALA': 6.47,\n",
       " 'MADHYA PRADESH': 1.01,\n",
       " 'MAHARASHTRA': 1.42,\n",
       " 'MANIPUR': 4.06,\n",
       " 'MEGHALAYA': 0.88,\n",
       " 'MIZORAM': 3.47,\n",
       " 'NAGALAND': 17.61,\n",
       " 'ODISHA': 2.42,\n",
       " 'PUNJAB': 2.24,\n",
       " 'RAJASTHAN': 1.3,\n",
       " 'SIKKIM': 1.33,\n",
       " 'TAMIL NADU': 2.34,\n",
       " 'TRIPURA': 14.35,\n",
       " 'UTTARAKHAND': 3.35,\n",
       " 'UTTAR PRADESH': 1.61,\n",
       " 'WEST BENGAL': 3.37,\n",
       " 'ANDAMAN AND NICOBAR ISLANDS': 6.6,\n",
       " 'CHANDIGARH': 6.27,\n",
       " 'DADRA & NAGAR HAVELI': 1.7,\n",
       " 'DAMAN & DIU': 0.8,\n",
       " 'LAKSHADWEEP': 12.48,\n",
       " 'PUDUCHERRY': 2.24,\n",
       " 'NCT OF DELHI': 3.61,\n",
       " 'ANDAMAN & NICOBAR ISLANDS': 6.6}"
      ]
     },
     "execution_count": 20,
     "metadata": {},
     "output_type": "execute_result"
    }
   ],
   "source": [
    "# #del(final_dic)\n",
    "# del(dic_ruralemp)\n",
    "# del(dic_urbanemp)\n",
    "final_dic"
   ]
  },
  {
   "cell_type": "code",
   "execution_count": 22,
   "metadata": {
    "scrolled": true
   },
   "outputs": [
    {
     "data": {
      "text/plain": [
       "{'ANDHRA PRADESH': 2.23,\n",
       " 'ARUNACHAL PRADESH': 2.41,\n",
       " 'ASSAM': 4.66,\n",
       " 'BIHAR': 3.47,\n",
       " 'CHHATTISGARH': 1.61,\n",
       " 'DELHI': 3.61,\n",
       " 'GOA': 4.79,\n",
       " 'GUJARAT': 0.51,\n",
       " 'HARYANA': 3.03,\n",
       " 'HIMACHAL PRADESH': 1.3,\n",
       " 'JAMMU & KASHMIR': 3.73,\n",
       " 'JHARKHAND': 2.82,\n",
       " 'KARNATAKA': 1.67,\n",
       " 'KERALA': 6.47,\n",
       " 'MADHYA PRADESH': 1.01,\n",
       " 'MAHARASHTRA': 1.42,\n",
       " 'MANIPUR': 4.06,\n",
       " 'MEGHALAYA': 0.88,\n",
       " 'MIZORAM': 3.47,\n",
       " 'NAGALAND': 17.61,\n",
       " 'ODISHA': 2.42,\n",
       " 'PUNJAB': 2.24,\n",
       " 'RAJASTHAN': 1.3,\n",
       " 'SIKKIM': 1.33,\n",
       " 'TAMIL NADU': 2.34,\n",
       " 'TRIPURA': 14.35,\n",
       " 'UTTARAKHAND': 3.35,\n",
       " 'UTTAR PRADESH': 1.61,\n",
       " 'WEST BENGAL': 3.37,\n",
       " 'ANDAMAN AND NICOBAR ISLANDS': 6.6,\n",
       " 'CHANDIGARH': 6.27,\n",
       " 'DADRA & NAGAR HAVELI': 1.7,\n",
       " 'DAMAN & DIU': 0.8,\n",
       " 'LAKSHADWEEP': 12.48,\n",
       " 'PUDUCHERRY': 2.24,\n",
       " 'NCT OF DELHI': 3.61,\n",
       " 'ANDAMAN & NICOBAR ISLANDS': 6.6}"
      ]
     },
     "execution_count": 22,
     "metadata": {},
     "output_type": "execute_result"
    }
   ],
   "source": [
    "final_dic"
   ]
  },
  {
   "cell_type": "code",
   "execution_count": 32,
   "metadata": {},
   "outputs": [
    {
     "name": "stdout",
     "output_type": "stream",
     "text": [
      "[-11.2, -11.0, -13.1, -13.1, -8.9, -8.9, -8.9, -9.6, -9.6, -9.6, -9.6, -9.6, 9.2, 9.2, 9.2, 9.2, 9.2, 9.2, 9.2, 9.2, -15.2, -15.2, -15.2, -15.2, -15.2, -15.2, -15.2, -15.2, -12.5, -12.5, -12.5, -12.5, -12.5, -12.5, -12.5, -12.5, -12.5, -12.5, -12.5, -12.5]\n"
     ]
    }
   ],
   "source": [
    "G=nx.read_gml(\"2011.gml\")\n",
    "G.remove_edges_from(nx.selfloop_edges(G))\n",
    "bins=[]\n",
    "temp=-25.5\n",
    "while temp<26:\n",
    "    bins.append(temp)\n",
    "    temp+=1\n",
    "dic1=dic_ruralemp\n",
    "dic2=dic_urbanemp\n",
    "y=0\n",
    "count=0\n",
    "x=[]\n",
    "for u,v,a in G.edges(data=True):\n",
    "    x+=[round((dic2[v]-dic1[u]),1)]*(a[\"weight\"])\n",
    "    count=count+a[\"weight\"]\n",
    "    y=round((dic2[v]-dic1[u]),1)*a[\"weight\"]+y          #y is the weighted sum of unemployment differences\n",
    "print(x[0:40])"
   ]
  },
  {
   "cell_type": "code",
   "execution_count": 33,
   "metadata": {
    "scrolled": false
   },
   "outputs": [
    {
     "data": {
      "image/png": "[encoded data removed]",
      "text/plain": [
       "<Figure size 432x288 with 1 Axes>"
      ]
     },
     "metadata": {
      "needs_background": "light"
     },
     "output_type": "display_data"
    }
   ],
   "source": [
    "m=plt.hist(x, bins=30, histtype='bar', )\n",
    "strr=\"average trend: \"+str(round((y/count),2))\n",
    "plt.text(5, 7.0*1e6, strr)\n",
    "fig=plt.gcf()\n",
    "plt.title(r\"Migration vs Change in unemployment rate(RU) \")\n",
    "plt.ylabel(\"Net Migration for the band\")\n",
    "plt.xlabel(\"Percentage change in employment\")\n",
    "fig.savefig(\"unempRU\")\n",
    "plt.show()"
   ]
  },
  {
   "cell_type": "code",
   "execution_count": 25,
   "metadata": {},
   "outputs": [
    {
     "data": {
      "text/plain": [
       "1.403549898884"
      ]
     },
     "execution_count": 25,
     "metadata": {},
     "output_type": "execute_result"
    }
   ],
   "source": [
    "y/count"
   ]
  },
  {
   "cell_type": "code",
   "execution_count": 32,
   "metadata": {},
   "outputs": [],
   "source": [
    "out=pd.DataFrame(final_dic,index=[0])\n",
    "out.to_csv(\"EMPLOYMENT-UN.XLSX\")"
   ]
  },
  {
   "cell_type": "code",
   "execution_count": null,
   "metadata": {},
   "outputs": [],
   "source": []
  },
  {
   "cell_type": "code",
   "execution_count": null,
   "metadata": {},
   "outputs": [],
   "source": []
  }
 ],
 "metadata": {
  "kernelspec": {
   "display_name": "Python 3",
   "language": "python",
   "name": "python3"
  },
  "language_info": {
   "codemirror_mode": {
    "name": "ipython",
    "version": 3
   },
   "file_extension": ".py",
   "mimetype": "text/x-python",
   "name": "python",
   "nbconvert_exporter": "python",
   "pygments_lexer": "ipython3",
   "version": "3.8.3"
  }
 },
 "nbformat": 4,
 "nbformat_minor": 4
}
